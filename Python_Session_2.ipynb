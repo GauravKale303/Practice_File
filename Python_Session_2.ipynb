{
 "cells": [
  {
   "cell_type": "markdown",
   "id": "c7875029-d6c1-4c00-a443-6e50b9bda4b4",
   "metadata": {},
   "source": [
    "**Data type**\n",
    "- In python we have many data type are there\n",
    "    - Integer\n",
    "    - float\n",
    "    - string\n",
    "    - bollean "
   ]
  },
  {
   "cell_type": "markdown",
   "id": "9bc74cf9-820b-41d0-942a-19cb54b8fd2d",
   "metadata": {},
   "source": [
    "**Integer**\n",
    "- IN python no need to mention a data type like c\n",
    "- It will consider the data type automatically"
   ]
  },
  {
   "cell_type": "code",
   "execution_count": 6,
   "id": "058d4e04-76aa-401a-8fc1-b46ac4f3d5d4",
   "metadata": {},
   "outputs": [],
   "source": [
    "number=100\n",
    "# In order to check the type of a variable we will use \n",
    "# In built function called as type"
   ]
  },
  {
   "cell_type": "code",
   "execution_count": 8,
   "id": "7706bf08-9fd0-4c27-a0e3-a7fd1b8409d7",
   "metadata": {},
   "outputs": [
    {
     "data": {
      "text/plain": [
       "int"
      ]
     },
     "execution_count": 8,
     "metadata": {},
     "output_type": "execute_result"
    }
   ],
   "source": [
    "type(number)"
   ]
  },
  {
   "cell_type": "code",
   "execution_count": 10,
   "id": "64915bbc-6ebc-4ea0-b10d-3aa86e9e96ac",
   "metadata": {},
   "outputs": [
    {
     "data": {
      "text/plain": [
       "int"
      ]
     },
     "execution_count": 10,
     "metadata": {},
     "output_type": "execute_result"
    }
   ],
   "source": [
    "type(100)"
   ]
  },
  {
   "cell_type": "markdown",
   "id": "bb00b78b-497f-4ee7-ab8b-5f892ccf617b",
   "metadata": {},
   "source": [
    "- in Maths we have different types of represntation available\n",
    "- The following Number system are:\n",
    "    - Binary\n",
    "    - Octa\n",
    "    - Decimal\n",
    "    - Hexa "
   ]
  },
  {
   "cell_type": "markdown",
   "id": "50d67dec-9110-42f3-b4f1-a670742816b9",
   "metadata": {},
   "source": [
    "**Binary**\n",
    "- Binary has bi which indicates two\n",
    "- We have total 0 to 9 digits to represnt any number\n",
    "- From there we will take only first two digits i.e. 0 and 1\n",
    "- Example: 0b101,0B0001\n",
    "- Wrong representation is: 0b002, 1b001"
   ]
  },
  {
   "cell_type": "code",
   "execution_count": 21,
   "id": "93e2a13d-c465-48de-a50a-04db960ca4fc",
   "metadata": {},
   "outputs": [
    {
     "data": {
      "text/plain": [
       "1"
      ]
     },
     "execution_count": 21,
     "metadata": {},
     "output_type": "execute_result"
    }
   ],
   "source": [
    "num=0b001\n",
    "num"
   ]
  },
  {
   "cell_type": "code",
   "execution_count": 23,
   "id": "1c647de5-8ad4-4d12-991b-d41fb52d3409",
   "metadata": {},
   "outputs": [
    {
     "data": {
      "text/plain": [
       "15"
      ]
     },
     "execution_count": 23,
     "metadata": {},
     "output_type": "execute_result"
    }
   ],
   "source": [
    "0b1111"
   ]
  },
  {
   "cell_type": "code",
   "execution_count": null,
   "id": "537bd6b9-c246-4cda-9710-6de4d9d2be9e",
   "metadata": {},
   "outputs": [],
   "source": [
    "4  2  1  Num\n",
    "0  0  0   0\n",
    "0  0  1   1\n",
    "0  1  0   2\n",
    "0  1  1   3\n",
    "1  0  0   4\n",
    "1  0  1   5\n",
    "1  1  0   6   # 0b110=6\n",
    "1  1  1   7   # 0b111=7"
   ]
  },
  {
   "cell_type": "markdown",
   "id": "39564a82-cf50-4c66-8800-3ba41df11149",
   "metadata": {},
   "source": [
    "**Octa**\n",
    "- Octa means 8\n",
    "- We have total 0 to 9 digits to represnt any number:0,1,2,3,4,5,6,7,8,9\n",
    "- From there we will take only starting 8 digits i.e.0 to 7\n",
    "- Example: 0o123\n",
    "- Wrong representation is: 0o786 because 7,6 but 8"
   ]
  },
  {
   "cell_type": "code",
   "execution_count": 41,
   "id": "a018f131-021a-42bb-a884-c1626a453f76",
   "metadata": {},
   "outputs": [
    {
     "ename": "SyntaxError",
     "evalue": "invalid digit '8' in octal literal (3171049937.py, line 1)",
     "output_type": "error",
     "traceback": [
      "\u001b[1;36m  Cell \u001b[1;32mIn[41], line 1\u001b[1;36m\u001b[0m\n\u001b[1;33m    0o786\u001b[0m\n\u001b[1;37m       ^\u001b[0m\n\u001b[1;31mSyntaxError\u001b[0m\u001b[1;31m:\u001b[0m invalid digit '8' in octal literal\n"
     ]
    }
   ],
   "source": [
    "0o786"
   ]
  },
  {
   "cell_type": "markdown",
   "id": "c2597023-9f9c-4107-9987-ea84ab6071cd",
   "metadata": {},
   "source": [
    "- A good develope will understand the error easily\n",
    "- Almost we will get 20 types\n",
    "- We will foocus both on output as well as errors"
   ]
  },
  {
   "cell_type": "code",
   "execution_count": 17,
   "id": "96b1df67-14cf-4536-8465-8c7d9106c265",
   "metadata": {},
   "outputs": [
    {
     "data": {
      "text/plain": [
       "83"
      ]
     },
     "execution_count": 17,
     "metadata": {},
     "output_type": "execute_result"
    }
   ],
   "source": [
    "0o123"
   ]
  },
  {
   "cell_type": "code",
   "execution_count": 19,
   "id": "66306b0f-7cf6-47ab-8d12-3d274e91b309",
   "metadata": {},
   "outputs": [
    {
     "data": {
      "text/plain": [
       "302"
      ]
     },
     "execution_count": 19,
     "metadata": {},
     "output_type": "execute_result"
    }
   ],
   "source": [
    "0O456"
   ]
  },
  {
   "cell_type": "markdown",
   "id": "595e7bf1-aef4-4f4d-a5ef-59cc3297d139",
   "metadata": {},
   "source": [
    "**Hexa**\n",
    "- Hexa means 16\n",
    "- We have total 0 to 9 digits to represent any number:0,1,2,3,4,5,6,7,8,9\n",
    "- After 9 we will use A to F A:10, B:11, C:12, D:13, E:14, F:15\n",
    "- Example: 0x123,0XABC, 0x9ad\n",
    "- Wrong representation is:0xFGH"
   ]
  },
  {
   "cell_type": "code",
   "execution_count": 22,
   "id": "efc97cef-f041-4c92-a98d-a99929990600",
   "metadata": {},
   "outputs": [
    {
     "data": {
      "text/plain": [
       "2748"
      ]
     },
     "execution_count": 22,
     "metadata": {},
     "output_type": "execute_result"
    }
   ],
   "source": [
    "0xabc"
   ]
  },
  {
   "cell_type": "code",
   "execution_count": 24,
   "id": "4738ead3-fdc8-44ea-a487-f11cd48778ef",
   "metadata": {},
   "outputs": [
    {
     "data": {
      "text/plain": [
       "2745"
      ]
     },
     "execution_count": 24,
     "metadata": {},
     "output_type": "execute_result"
    }
   ],
   "source": [
    "0xab9"
   ]
  },
  {
   "cell_type": "code",
   "execution_count": 26,
   "id": "4815538c-444b-4a3e-a25c-48e30d6ea655",
   "metadata": {},
   "outputs": [
    {
     "data": {
      "text/plain": [
       "2898"
      ]
     },
     "execution_count": 26,
     "metadata": {},
     "output_type": "execute_result"
    }
   ],
   "source": [
    "0Xb52"
   ]
  },
  {
   "cell_type": "markdown",
   "id": "f41685cf-8394-4c93-a131-a50c547dfc35",
   "metadata": {},
   "source": [
    "**Float**"
   ]
  },
  {
   "cell_type": "code",
   "execution_count": 29,
   "id": "8d462045-c6b1-4471-b12e-a397ef08ba85",
   "metadata": {},
   "outputs": [
    {
     "data": {
      "text/plain": [
       "float"
      ]
     },
     "execution_count": 29,
     "metadata": {},
     "output_type": "execute_result"
    }
   ],
   "source": [
    "num=10.5\n",
    "type(num)"
   ]
  },
  {
   "cell_type": "code",
   "execution_count": 31,
   "id": "39a5946f-24a6-4833-9daa-5dc2ef67793b",
   "metadata": {},
   "outputs": [
    {
     "data": {
      "text/plain": [
       "(int, float)"
      ]
     },
     "execution_count": 31,
     "metadata": {},
     "output_type": "execute_result"
    }
   ],
   "source": [
    "type(10),type(10.5)"
   ]
  },
  {
   "cell_type": "code",
   "execution_count": 33,
   "id": "1c637139-ddfb-4a29-8236-cd89019896ce",
   "metadata": {},
   "outputs": [
    {
     "data": {
      "text/plain": [
       "100000.0"
      ]
     },
     "execution_count": 33,
     "metadata": {},
     "output_type": "execute_result"
    }
   ],
   "source": [
    "10e1 # 10* <10>    = 100\n",
    "10e2 # 10* <100>   = 1000\n",
    "10e3 # 10* <1000>  = 10000\n",
    "10e4 # 10* <10000> = 1000000"
   ]
  },
  {
   "cell_type": "code",
   "execution_count": 35,
   "id": "367db7b3-8af4-42ad-a97a-f4d6e4415122",
   "metadata": {},
   "outputs": [
    {
     "data": {
      "text/plain": [
       "20"
      ]
     },
     "execution_count": 35,
     "metadata": {},
     "output_type": "execute_result"
    }
   ],
   "source": [
    "10\n",
    "20\n",
    "# In juputer note book by default last value will print"
   ]
  },
  {
   "cell_type": "code",
   "execution_count": 37,
   "id": "04a9c15e-f30f-48f8-856a-a91f5714ec19",
   "metadata": {},
   "outputs": [
    {
     "name": "stdout",
     "output_type": "stream",
     "text": [
      "10\n",
      "20\n"
     ]
    }
   ],
   "source": [
    "# If you want to see all the answers apply print\n",
    "print(10)\n",
    "print(20)"
   ]
  },
  {
   "cell_type": "code",
   "execution_count": 39,
   "id": "90a04f24-2f6b-4ad3-aafe-f5b37da7c267",
   "metadata": {},
   "outputs": [
    {
     "data": {
      "text/plain": [
       "(10, 20)"
      ]
     },
     "execution_count": 39,
     "metadata": {},
     "output_type": "execute_result"
    }
   ],
   "source": [
    "10,20"
   ]
  },
  {
   "cell_type": "code",
   "execution_count": 41,
   "id": "2ab1e367-b509-41de-b3c1-2dda422d868b",
   "metadata": {},
   "outputs": [
    {
     "name": "stdout",
     "output_type": "stream",
     "text": [
      "100.0\n",
      "1000.0\n",
      "10000.0\n",
      "100000.0\n"
     ]
    }
   ],
   "source": [
    "print(10e1)\n",
    "print(10e2)\n",
    "print(10e3)\n",
    "print(10e4)"
   ]
  },
  {
   "cell_type": "code",
   "execution_count": 43,
   "id": "64e7f718-c48b-482b-842b-970d43169e2b",
   "metadata": {},
   "outputs": [
    {
     "data": {
      "text/plain": [
       "(100.0, 1000.0, 10000.0)"
      ]
     },
     "execution_count": 43,
     "metadata": {},
     "output_type": "execute_result"
    }
   ],
   "source": [
    "10e+1,10e+2,10e+3"
   ]
  },
  {
   "cell_type": "code",
   "execution_count": 45,
   "id": "05d06c3a-cb5d-4f99-9cbd-d2007967c53c",
   "metadata": {},
   "outputs": [
    {
     "data": {
      "text/plain": [
       "1000.0"
      ]
     },
     "execution_count": 45,
     "metadata": {},
     "output_type": "execute_result"
    }
   ],
   "source": [
    "10E2 # Dont afraid to explore"
   ]
  },
  {
   "cell_type": "code",
   "execution_count": null,
   "id": "78e6051c-fac4-44e0-8684-c9fb205e2b0f",
   "metadata": {},
   "outputs": [],
   "source": [
    "10e-1 # 10/<10>   = 1\n",
    "10e-2 # 10/<100>  = 0.1\n",
    "10e-3 # 10/<1000> = 0.01"
   ]
  },
  {
   "cell_type": "code",
   "execution_count": 49,
   "id": "65162558-6c65-4118-9e3e-838722e279c5",
   "metadata": {},
   "outputs": [
    {
     "name": "stdout",
     "output_type": "stream",
     "text": [
      "1.0\n",
      "0.1\n",
      "0.01\n"
     ]
    }
   ],
   "source": [
    "print(10e-1)\n",
    "print(10e-2)\n",
    "print(10e-3)"
   ]
  },
  {
   "cell_type": "markdown",
   "id": "eff81870-454e-4cd7-ac31-7bbb19c6e7b5",
   "metadata": {},
   "source": [
    "- In the Machine learing we often see the values in exponential format\n",
    "- In some case we need to search for zero value\n",
    "- In ML with Python we rsrely see exatct an asnwer 0.0\n",
    "- Instead of 0.0 it will disply as 1.2345e-17"
   ]
  },
  {
   "cell_type": "code",
   "execution_count": 52,
   "id": "fe4ee3d9-009d-4605-9eb3-d139147c23e1",
   "metadata": {},
   "outputs": [
    {
     "data": {
      "text/plain": [
       "0.000774619736"
      ]
     },
     "execution_count": 52,
     "metadata": {},
     "output_type": "execute_result"
    }
   ],
   "source": [
    "7.74619736e-4"
   ]
  },
  {
   "cell_type": "code",
   "execution_count": null,
   "id": "a73ea645-b3e8-49cb-a8ff-22b4e2b6bfd2",
   "metadata": {},
   "outputs": [],
   "source": [
    "1.2345e-17\n",
    "1.2345/10000000000000000000=0.0000000000000000012345"
   ]
  },
  {
   "cell_type": "markdown",
   "id": "b7214be7-cc4e-428d-953b-2d0ff8a0a6c0",
   "metadata": {},
   "source": [
    "**String**"
   ]
  },
  {
   "cell_type": "markdown",
   "id": "bd6d8ae7-0130-49f5-a842-9b7ba9220b0d",
   "metadata": {},
   "source": [
    "- strings represent english charcters generally\n",
    "- strings will respresnt with quots\n",
    "    - Single quotes\n",
    "    - Double quotes\n",
    "    - Triple quotes "
   ]
  },
  {
   "cell_type": "code",
   "execution_count": 66,
   "id": "1525f125-d6f4-4568-9f30-3c6d08840fdd",
   "metadata": {},
   "outputs": [
    {
     "data": {
      "text/plain": [
       "'python'"
      ]
     },
     "execution_count": 66,
     "metadata": {},
     "output_type": "execute_result"
    }
   ],
   "source": [
    "str1='python' # single quotes\n",
    "str1"
   ]
  },
  {
   "cell_type": "code",
   "execution_count": 73,
   "id": "90255524-6c27-46d1-849a-f813d028eeb6",
   "metadata": {},
   "outputs": [
    {
     "data": {
      "text/plain": [
       "'python'"
      ]
     },
     "execution_count": 73,
     "metadata": {},
     "output_type": "execute_result"
    }
   ],
   "source": [
    "str2=\"python\" # Double quotes\n",
    "str2"
   ]
  },
  {
   "cell_type": "markdown",
   "id": "5e3ba8e4-b987-4068-bba1-56ba064e92b0",
   "metadata": {},
   "source": [
    "- we can represent in any way but python will give in single quoutes"
   ]
  },
  {
   "cell_type": "code",
   "execution_count": 75,
   "id": "9d4c916e-a458-4413-a14b-ab862c20fe72",
   "metadata": {},
   "outputs": [
    {
     "name": "stdout",
     "output_type": "stream",
     "text": [
      "python\n",
      "python\n"
     ]
    }
   ],
   "source": [
    "print(str1)\n",
    "print(str2)"
   ]
  },
  {
   "cell_type": "markdown",
   "id": "635ed3e1-67e1-4c21-a5c4-cefaaf2ca4d2",
   "metadata": {},
   "source": [
    "- When we apply print on string, It will display with out quotes"
   ]
  },
  {
   "cell_type": "code",
   "execution_count": 80,
   "id": "ec9fe387-5165-46f3-97d8-e17d165f487c",
   "metadata": {},
   "outputs": [
    {
     "data": {
      "text/plain": [
       "str"
      ]
     },
     "execution_count": 80,
     "metadata": {},
     "output_type": "execute_result"
    }
   ],
   "source": [
    "str3='abc123'\n",
    "type(str3)"
   ]
  },
  {
   "cell_type": "code",
   "execution_count": 82,
   "id": "e0eed02d-422d-41cf-9af1-ab0cbcc528aa",
   "metadata": {},
   "outputs": [
    {
     "data": {
      "text/plain": [
       "(str, str, str, str)"
      ]
     },
     "execution_count": 82,
     "metadata": {},
     "output_type": "execute_result"
    }
   ],
   "source": [
    "type('10'),type('10.5'),type('123'),type('apple')"
   ]
  },
  {
   "cell_type": "markdown",
   "id": "06ac65e3-8d91-4c09-a07b-57966ce8baca",
   "metadata": {},
   "source": [
    "- any data type or any value is provided by quotes means\n",
    "- It become a string only\n",
    "- Strings always in black color\n",
    "- variables always in black color\n",
    "- keywords or number always in Green color\n",
    "  "
   ]
  },
  {
   "cell_type": "code",
   "execution_count": null,
   "id": "b3f931e7-6e7d-46bd-8ddc-9a3e56edc390",
   "metadata": {},
   "outputs": [],
   "source": [
    "vicky='vicky'\n",
    "# 'vicky' is a english letters stored in a variable name called vicky"
   ]
  },
  {
   "cell_type": "code",
   "execution_count": 85,
   "id": "bec9b1c4-b1eb-4ffb-b3f4-411bcf95e0b1",
   "metadata": {},
   "outputs": [
    {
     "name": "stdout",
     "output_type": "stream",
     "text": [
      "I like 'python'\n"
     ]
    }
   ],
   "source": [
    "str1=\"I like 'python'\"\n",
    "print(str1)"
   ]
  },
  {
   "cell_type": "code",
   "execution_count": 87,
   "id": "8f926103-b643-4a4b-98d8-6392d9550722",
   "metadata": {},
   "outputs": [
    {
     "name": "stdout",
     "output_type": "stream",
     "text": [
      "I like \"python\"\n"
     ]
    }
   ],
   "source": [
    "str1='I like \"python\"'\n",
    "print(str1)"
   ]
  },
  {
   "cell_type": "markdown",
   "id": "d58ac3ae-82e8-4ae3-9458-b618a9934336",
   "metadata": {},
   "source": [
    "- If you want to highlite any word \n",
    "- Represent entire string in single quotes, highlited word in double quotes vice versa"
   ]
  },
  {
   "cell_type": "code",
   "execution_count": null,
   "id": "f9b07e87-0fda-4a39-a42b-16edc366094a",
   "metadata": {},
   "outputs": [],
   "source": [
    "hai\n",
    "how are you"
   ]
  },
  {
   "cell_type": "code",
   "execution_count": 95,
   "id": "5fdb0dc8-e7dc-4c5d-b999-ed23bcc7fb19",
   "metadata": {},
   "outputs": [
    {
     "ename": "SyntaxError",
     "evalue": "unterminated string literal (detected at line 1) (3411619208.py, line 1)",
     "output_type": "error",
     "traceback": [
      "\u001b[1;36m  Cell \u001b[1;32mIn[95], line 1\u001b[1;36m\u001b[0m\n\u001b[1;33m    str1='hai\u001b[0m\n\u001b[1;37m         ^\u001b[0m\n\u001b[1;31mSyntaxError\u001b[0m\u001b[1;31m:\u001b[0m unterminated string literal (detected at line 1)\n"
     ]
    }
   ],
   "source": [
    "str1='hai\n",
    "    how are you\n",
    "    im good'"
   ]
  },
  {
   "cell_type": "code",
   "execution_count": 97,
   "id": "b37a28ff-0775-4636-bddb-51755ac9389e",
   "metadata": {},
   "outputs": [
    {
     "ename": "SyntaxError",
     "evalue": "unterminated string literal (detected at line 1) (3167671635.py, line 1)",
     "output_type": "error",
     "traceback": [
      "\u001b[1;36m  Cell \u001b[1;32mIn[97], line 1\u001b[1;36m\u001b[0m\n\u001b[1;33m    str1=\"hai\u001b[0m\n\u001b[1;37m         ^\u001b[0m\n\u001b[1;31mSyntaxError\u001b[0m\u001b[1;31m:\u001b[0m unterminated string literal (detected at line 1)\n"
     ]
    }
   ],
   "source": [
    "str1=\"hai\n",
    "    how are you\n",
    "    im good\""
   ]
  },
  {
   "cell_type": "code",
   "execution_count": 99,
   "id": "86dfcb0d-4ca2-42ff-b743-0c0f2f5419d4",
   "metadata": {},
   "outputs": [
    {
     "data": {
      "text/plain": [
       "'hai\\n    how are you\\n    im good'"
      ]
     },
     "execution_count": 99,
     "metadata": {},
     "output_type": "execute_result"
    }
   ],
   "source": [
    "str1=\"\"\"hai\n",
    "    how are you\n",
    "    im good\"\"\"\n",
    "str1"
   ]
  },
  {
   "cell_type": "code",
   "execution_count": 101,
   "id": "7485c076-b0e3-43c9-97fa-e9181bdbc12e",
   "metadata": {},
   "outputs": [
    {
     "name": "stdout",
     "output_type": "stream",
     "text": [
      "hai\n",
      "    how are you\n",
      "    im good\n"
     ]
    }
   ],
   "source": [
    "print(str1)"
   ]
  },
  {
   "cell_type": "markdown",
   "id": "4538a6d3-b127-4ad2-b449-04f9bdf59ed0",
   "metadata": {},
   "source": [
    "- Triple quoutes is used for write a multiline comments\n",
    "- This is called as **Docstring**\n",
    "- In order to write a story in jupyter notebook we have a markdown\n",
    "- But other platforms like VScode, Pycharm we dont have a markdown\n",
    "- Then how can we write a story: By using Triple quoutes\n",
    "- If any person writing some thing using triple quotes, which indicates\n",
    "  the user is trying to convey the information\n",
    "- This is process called as Docsting\n",
    "  "
   ]
  },
  {
   "cell_type": "markdown",
   "id": "207c7465-609d-4218-8151-dbf49688f107",
   "metadata": {},
   "source": [
    "**Boolean**"
   ]
  },
  {
   "cell_type": "markdown",
   "id": "8a3c1b5d-2015-425e-a161-f499b939bef3",
   "metadata": {},
   "source": [
    "- Computer takes the values in Binary Format (1,0)\n",
    "- Computer Gives the answer in Boolean format\n",
    "    - True\n",
    "    - False\n",
    "- True Indicates 1\n",
    "- False Indicates 0 "
   ]
  },
  {
   "cell_type": "code",
   "execution_count": 108,
   "id": "880d7bdc-c0f9-46a5-85ee-5ee5df10de29",
   "metadata": {},
   "outputs": [
    {
     "data": {
      "text/plain": [
       "bool"
      ]
     },
     "execution_count": 108,
     "metadata": {},
     "output_type": "execute_result"
    }
   ],
   "source": [
    "val=True\n",
    "type(val)"
   ]
  },
  {
   "cell_type": "code",
   "execution_count": 110,
   "id": "e47e6161-de42-44ee-b464-cf86ba0d7959",
   "metadata": {},
   "outputs": [
    {
     "data": {
      "text/plain": [
       "bool"
      ]
     },
     "execution_count": 110,
     "metadata": {},
     "output_type": "execute_result"
    }
   ],
   "source": [
    "val1=False\n",
    "type(val1)"
   ]
  },
  {
   "cell_type": "code",
   "execution_count": null,
   "id": "2b41920a-ed94-4756-a37c-f233bf6609fc",
   "metadata": {},
   "outputs": [],
   "source": [
    "Sir Boolean is case sensitive or not\n",
    "\n",
    "True\n",
    "TRUE\n",
    "true"
   ]
  },
  {
   "cell_type": "code",
   "execution_count": 112,
   "id": "6b0ae50e-1e3e-4d9c-b23d-dc9b1f3af706",
   "metadata": {},
   "outputs": [
    {
     "data": {
      "text/plain": [
       "('True', True)"
      ]
     },
     "execution_count": 112,
     "metadata": {},
     "output_type": "execute_result"
    }
   ],
   "source": [
    "true='True'\n",
    "TRUE=True\n",
    "\n",
    "true,TRUE # two are variables"
   ]
  },
  {
   "cell_type": "code",
   "execution_count": 114,
   "id": "69596a89-5c0b-45ae-a6a8-3896ba82ec19",
   "metadata": {},
   "outputs": [
    {
     "data": {
      "text/plain": [
       "(str, bool)"
      ]
     },
     "execution_count": 114,
     "metadata": {},
     "output_type": "execute_result"
    }
   ],
   "source": [
    "type(true), type(TRUE)"
   ]
  },
  {
   "cell_type": "code",
   "execution_count": null,
   "id": "0334b4a9-f214-4b3c-9e28-8bf2190d4063",
   "metadata": {},
   "outputs": [],
   "source": [
    "a=10\n",
    "b=10.5\n",
    "c='10'\n",
    "d=True"
   ]
  }
 ],
 "metadata": {
  "kernelspec": {
   "display_name": "Python 3 (ipykernel)",
   "language": "python",
   "name": "python3"
  },
  "language_info": {
   "codemirror_mode": {
    "name": "ipython",
    "version": 3
   },
   "file_extension": ".py",
   "mimetype": "text/x-python",
   "name": "python",
   "nbconvert_exporter": "python",
   "pygments_lexer": "ipython3",
   "version": "3.12.4"
  }
 },
 "nbformat": 4,
 "nbformat_minor": 5
}
