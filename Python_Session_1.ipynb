{
 "cells": [
  {
   "cell_type": "markdown",
   "id": "45902515-8d7b-4288-b7ca-1b3881e11933",
   "metadata": {},
   "source": [
    "**Variables**"
   ]
  },
  {
   "cell_type": "markdown",
   "id": "675f389e-a8ae-430b-bea7-28c1453fc691",
   "metadata": {},
   "source": [
    "- Variables are used to store the value\n",
    "- variables can change their values\n",
    "- Varyyyy: Varying"
   ]
  },
  {
   "cell_type": "code",
   "execution_count": 40,
   "id": "8a773aa9-fc10-4453-a008-14e222116158",
   "metadata": {},
   "outputs": [
    {
     "data": {
      "text/plain": [
       "100"
      ]
     },
     "execution_count": 40,
     "metadata": {},
     "output_type": "execute_result"
    }
   ],
   "source": [
    "number=100\n",
    "number\n",
    "\n",
    "# 100 is storing in a variable called 'number'"
   ]
  },
  {
   "cell_type": "code",
   "execution_count": 5,
   "id": "ca738151-fe76-4f9e-9afd-04c31242b13d",
   "metadata": {},
   "outputs": [
    {
     "data": {
      "text/plain": [
       "200"
      ]
     },
     "execution_count": 5,
     "metadata": {},
     "output_type": "execute_result"
    }
   ],
   "source": [
    "number=200\n",
    "number"
   ]
  },
  {
   "cell_type": "markdown",
   "id": "eb662dc6-f5ab-402f-8e23-83f3f8d99d66",
   "metadata": {},
   "source": [
    "Gaurav is learning python code mode is used to write the code markdown mode is used\n",
    "to write the story\n",
    "\n",
    "Square brackets are there before cell: code mode esc+m "
   ]
  },
  {
   "cell_type": "code",
   "execution_count": 9,
   "id": "179d8773-10a1-49b4-ba53-fe865eb8328a",
   "metadata": {},
   "outputs": [],
   "source": [
    "raviteja=500\n",
    "# 500 is a values stored in a variable raviteja"
   ]
  },
  {
   "cell_type": "code",
   "execution_count": 11,
   "id": "74c86880-0a29-43b1-88c8-a47a3afa47e9",
   "metadata": {},
   "outputs": [
    {
     "data": {
      "text/plain": [
       "50000"
      ]
     },
     "execution_count": 11,
     "metadata": {},
     "output_type": "execute_result"
    }
   ],
   "source": [
    "raviteja=50000\n",
    "raviteja"
   ]
  },
  {
   "cell_type": "code",
   "execution_count": 13,
   "id": "73e497fd-5b3f-47fd-8f9e-7199d25f911e",
   "metadata": {},
   "outputs": [
    {
     "data": {
      "text/plain": [
       "5000000"
      ]
     },
     "execution_count": 13,
     "metadata": {},
     "output_type": "execute_result"
    }
   ],
   "source": [
    "raviteja=5000000\n",
    "raviteja"
   ]
  },
  {
   "cell_type": "code",
   "execution_count": 15,
   "id": "bab4574c-fe30-405a-b81c-daeb190609d7",
   "metadata": {},
   "outputs": [
    {
     "data": {
      "text/plain": [
       "25000"
      ]
     },
     "execution_count": 15,
     "metadata": {},
     "output_type": "execute_result"
    }
   ],
   "source": [
    "raviteja1=25000\n",
    "raviteja1\n",
    "# type ra\n",
    "# enter tab \n",
    "# you can see the names which are starting with 'ra'"
   ]
  },
  {
   "cell_type": "code",
   "execution_count": 17,
   "id": "0a470cf6-7d93-4699-a20e-b647b1abc750",
   "metadata": {},
   "outputs": [],
   "source": [
    "lakshmi=100"
   ]
  },
  {
   "cell_type": "code",
   "execution_count": 19,
   "id": "6de5a9fe-03ed-431d-bbce-05f7db6d2446",
   "metadata": {},
   "outputs": [
    {
     "data": {
      "text/plain": [
       "200"
      ]
     },
     "execution_count": 19,
     "metadata": {},
     "output_type": "execute_result"
    }
   ],
   "source": [
    "NUMBER=200\n",
    "NUMBER"
   ]
  },
  {
   "cell_type": "code",
   "execution_count": 21,
   "id": "d4d9f31f-e7a8-4fb7-8468-992dbd1f3cfa",
   "metadata": {},
   "outputs": [
    {
     "data": {
      "text/plain": [
       "300"
      ]
     },
     "execution_count": 21,
     "metadata": {},
     "output_type": "execute_result"
    }
   ],
   "source": [
    "NUMber=300\n",
    "NUMber"
   ]
  },
  {
   "cell_type": "code",
   "execution_count": 23,
   "id": "9752fb06-ae23-4102-a29d-ccc78d7cfb22",
   "metadata": {},
   "outputs": [
    {
     "data": {
      "text/plain": [
       "400"
      ]
     },
     "execution_count": 23,
     "metadata": {},
     "output_type": "execute_result"
    }
   ],
   "source": [
    "number123=400\n",
    "number123"
   ]
  },
  {
   "cell_type": "code",
   "execution_count": 25,
   "id": "67ff3250-37e3-40f4-959d-944d44236948",
   "metadata": {},
   "outputs": [
    {
     "ename": "SyntaxError",
     "evalue": "invalid decimal literal (1998651315.py, line 1)",
     "output_type": "error",
     "traceback": [
      "\u001b[1;36m  Cell \u001b[1;32mIn[25], line 1\u001b[1;36m\u001b[0m\n\u001b[1;33m    123number=500\u001b[0m\n\u001b[1;37m      ^\u001b[0m\n\u001b[1;31mSyntaxError\u001b[0m\u001b[1;31m:\u001b[0m invalid decimal literal\n"
     ]
    }
   ],
   "source": [
    "123number=500\n",
    "123\n",
    "# Variables does note have number as prefix\n",
    "# Variables should not start with numbers"
   ]
  },
  {
   "cell_type": "code",
   "execution_count": 27,
   "id": "00b6041a-8470-4ff6-a3f4-6636087ca4bd",
   "metadata": {},
   "outputs": [
    {
     "ename": "SyntaxError",
     "evalue": "cannot assign to expression here. Maybe you meant '==' instead of '='? (450282689.py, line 1)",
     "output_type": "error",
     "traceback": [
      "\u001b[1;36m  Cell \u001b[1;32mIn[27], line 1\u001b[1;36m\u001b[0m\n\u001b[1;33m    Number*one=500\u001b[0m\n\u001b[1;37m    ^\u001b[0m\n\u001b[1;31mSyntaxError\u001b[0m\u001b[1;31m:\u001b[0m cannot assign to expression here. Maybe you meant '==' instead of '='?\n"
     ]
    }
   ],
   "source": [
    "Number*one=500\n",
    "Number*one\n",
    "\n",
    "# Variables does not have sol characters"
   ]
  },
  {
   "cell_type": "code",
   "execution_count": 31,
   "id": "99a424f5-b78c-4d67-80bc-d7af0489a3be",
   "metadata": {},
   "outputs": [
    {
     "data": {
      "text/plain": [
       "600"
      ]
     },
     "execution_count": 31,
     "metadata": {},
     "output_type": "execute_result"
    }
   ],
   "source": [
    "number_one=600\n",
    "number_one\n",
    "\n",
    "# variables can have underscores"
   ]
  },
  {
   "cell_type": "code",
   "execution_count": 33,
   "id": "4f5f9beb-3296-41ab-b3fa-2878f173c0e5",
   "metadata": {},
   "outputs": [
    {
     "data": {
      "text/plain": [
       "900"
      ]
     },
     "execution_count": 33,
     "metadata": {},
     "output_type": "execute_result"
    }
   ],
   "source": [
    "_=900\n",
    "_\n",
    "\n",
    "# Only underscore can represent as variables"
   ]
  },
  {
   "cell_type": "markdown",
   "id": "10369b8f-9e0d-49db-a685-4ee12b5fdc3d",
   "metadata": {},
   "source": [
    "- Variables are case sensitive\n",
    "- Variables can represent as Capital letters\n",
    "- Variables can represent as Small letters\n",
    "- Variables can have both comninations\n",
    "- Python will conside latest value\n",
    "- Variables does not start with numbers\n",
    "- Variables can have number at last\n",
    "- Variables does not coontain any spl character, except Underscore\n",
    "- Variables does not contain ant space between the letters: number one\n",
    "- Only underscore can use as variables\n",
    "- Keyword or reserved wrods will not use as Variables: if, else"
   ]
  },
  {
   "cell_type": "code",
   "execution_count": 38,
   "id": "9eeaf9af-0492-4f16-a84e-4cf605dbf146",
   "metadata": {},
   "outputs": [
    {
     "data": {
      "text/plain": [
       "900"
      ]
     },
     "execution_count": 38,
     "metadata": {},
     "output_type": "execute_result"
    }
   ],
   "source": [
    "number_123_two=900\n",
    "number_123_two"
   ]
  },
  {
   "cell_type": "code",
   "execution_count": null,
   "id": "c7c478f3-0b96-4a93-92b5-51e2266b8e2d",
   "metadata": {},
   "outputs": [],
   "source": []
  }
 ],
 "metadata": {
  "kernelspec": {
   "display_name": "Python 3 (ipykernel)",
   "language": "python",
   "name": "python3"
  },
  "language_info": {
   "codemirror_mode": {
    "name": "ipython",
    "version": 3
   },
   "file_extension": ".py",
   "mimetype": "text/x-python",
   "name": "python",
   "nbconvert_exporter": "python",
   "pygments_lexer": "ipython3",
   "version": "3.12.4"
  }
 },
 "nbformat": 4,
 "nbformat_minor": 5
}
